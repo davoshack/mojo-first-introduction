{
 "cells": [
  {
   "cell_type": "markdown",
   "metadata": {},
   "source": [
    "Mojo language basics\n",
    "Mojo is a powerful programming language that's primarily designed for high-performance systems programming, so it has a lot in common with other systems languages like Rust and C++. Yet, Mojo is also designed to become a superset of Python, so a lot of language features and concepts you might know from Python translate nicely to Mojo.\n",
    "\n",
    "For example, if you're in a REPL environment or Jupyter notebook (like this document), you can run top-level code just like Python:"
   ]
  },
  {
   "cell_type": "code",
   "execution_count": 10,
   "metadata": {},
   "outputs": [
    {
     "name": "stdout",
     "output_type": "stream",
     "text": [
      "Hello Mojo!\n"
     ]
    }
   ],
   "source": [
    "#| CHECK: Hello Mojo!\n",
    "print(\"Hello Mojo!\")"
   ]
  },
  {
   "cell_type": "markdown",
   "metadata": {},
   "source": [
    "You don't normally see that with other systems programming languages.\n",
    "\n",
    "Mojo preserves Python's dynamic features and language syntax, and it even allows you to import and run code from Python packages. However, it's important to know that Mojo is an entirely new language, not just a new implementation of Python with syntax sugar. Mojo takes the Python language to a whole new level, with systems programming features, strong type-checking, memory safety, next-generation compiler technologies, and more. Yet, it's still designed to be a simple language that's useful for general-purpose programming.\n",
    "\n",
    "This page provides a gentle introduction to the Mojo language, and requires only a little programming experience. So let's get started!\n",
    "\n",
    "For more details about everything covered here, check out the Mojo Manual.\n",
    "\n",
    "Language basics\n",
    "First and foremost, Mojo is a compiled language and a lot of its performance and memory-safety features are derived from that fact. Mojo code can be ahead-of-time (AOT) or just-in-time (JIT) compiled.\n",
    "\n",
    "Like other compiled languages, Mojo programs (.mojo or .🔥 files) require a main() function as the entry point to the program. For example:"
   ]
  },
  {
   "cell_type": "code",
   "execution_count": 16,
   "metadata": {},
   "outputs": [
    {
     "name": "stdout",
     "output_type": "stream",
     "text": [
      "2\n"
     ]
    }
   ],
   "source": [
    "fn main():\n",
    "    var x: Int = 1\n",
    "    x += 1\n",
    "    print(x)\n",
    "\n",
    "main()"
   ]
  },
  {
   "cell_type": "markdown",
   "metadata": {},
   "source": [
    "If you know Python, you might have expected the function name to be def main() instead of fn main(). Both actually work in Mojo, but using fn behaves a bit differently, as we'll discuss below.\n",
    "\n",
    "Of course, if you're building a Mojo module (an API library), not a Mojo program, then your file doesn't need a main() function (because it will be imported by other programs that do have one).\n",
    "\n",
    "Note: When you're writing code in a .mojo/.🔥 file, you can't run top-level code as shown on this page—all code in a Mojo program or module must be encased in a function or struct. However, top-level code does work in a REPL or Jupyter notebook (such as the notebook for this page).\n",
    "\n",
    "Now let's explain the code in this main() function.\n",
    "\n",
    "Syntax and semantics\n",
    "This is simple: Mojo supports (or will support) all of Python's syntax and semantics. If you're not familiar with Python syntax, there are a ton of great resources online that can teach you.\n",
    "\n",
    "For example, like Python, Mojo uses line breaks and indentation to define code blocks (not curly braces), and Mojo supports all of Python's control-flow syntax such as if conditions and for loops.\n",
    "\n",
    "However, Mojo is still a work in progress, so there are some things from Python that aren't implemented in Mojo yet (see the Mojo roadmap). All the missing Python features will arrive in time, but Mojo already includes many features and capabilities beyond what's available in Python.\n",
    "\n",
    "As such, the following sections will focus on some of the language features that are unique to Mojo (compared to Python).\n",
    "\n",
    "Functions\n",
    "Mojo functions can be declared with either fn (shown above) or def (as in Python). The fn declaration enforces strongly-typed and memory-safe behaviors, while def provides Python-style dynamic behaviors.\n",
    "\n",
    "Both fn and def functions have their value, and it's important that you learn them both. However, for the purposes of this introduction, we're going to focus on fn functions only. For more detail about both, see the functions page in the manual.\n",
    "\n",
    "In the following sections, you'll learn how fn functions enforce strongly-typed and memory-safe behaviors in your code.\n",
    "\n",
    "Variables\n",
    "You can declare variables (such as x in the above main() function) with var to create a mutable value, or with let to create an immutable value.\n",
    "\n",
    "If you change var to let in the main() function above and run it, you'll get a compiler error like this:\n",
    "\n",
    "error: Expression [15]:7:5: expression must be mutable for in-place operator destination\n",
    "    x += 1\n",
    "    ^\n",
    "That's because let makes the value immutable, so you can't increment it.\n",
    "\n",
    "And if you delete var completely, you'll get an error because fn functions require explicit variable declarations (unlike Python-style def functions).\n",
    "\n",
    "Finally, notice that the x variable has an explicit Int type specification. Declaring the type is not required for variables in fn, but it is desirable sometimes. If you omit it, Mojo infers the type, as shown here:"
   ]
  },
  {
   "cell_type": "code",
   "execution_count": 17,
   "metadata": {},
   "outputs": [
    {
     "name": "stdout",
     "output_type": "stream",
     "text": [
      "3\n"
     ]
    }
   ],
   "source": [
    "fn do_math():\n",
    "    var x: Int = 1\n",
    "    var y = 2\n",
    "    print(x + y)\n",
    "\n",
    "do_math()"
   ]
  }
 ],
 "metadata": {
  "kernelspec": {
   "display_name": "Mojo",
   "language": "mojo",
   "name": "mojo-jupyter-kernel"
  },
  "language_info": {
   "codemirror_mode": {
    "name": "mojo"
   },
   "file_extension": ".mojo",
   "mimetype": "text/x-mojo",
   "name": "mojo"
  }
 },
 "nbformat": 4,
 "nbformat_minor": 2
}
